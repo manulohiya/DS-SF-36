{
 "cells": [
  {
   "cell_type": "markdown",
   "metadata": {},
   "source": [
    "# DS-SF-36 | 14 | Trees | Codealong | Starter Code"
   ]
  },
  {
   "cell_type": "code",
   "execution_count": 2,
   "metadata": {
    "collapsed": true
   },
   "outputs": [],
   "source": [
    "import os\n",
    "\n",
    "import pandas as pd\n",
    "pd.set_option('display.max_rows', 10)\n",
    "pd.set_option('display.notebook_repr_html', True)\n",
    "pd.set_option('display.max_columns', 10)\n",
    "\n",
    "import math"
   ]
  },
  {
   "cell_type": "markdown",
   "metadata": {},
   "source": [
    "## Part A | The 2008 Democratic Primaries"
   ]
  },
  {
   "cell_type": "markdown",
   "metadata": {},
   "source": [
    "(dataset adapted from http://www.stat.ucla.edu/~cocteau/primaries.csv)"
   ]
  },
  {
   "cell_type": "code",
   "execution_count": 3,
   "metadata": {
    "collapsed": true
   },
   "outputs": [],
   "source": [
    "df = pd.read_csv(os.path.join('..', 'datasets', 'dataset-14-2008-democrat-primaries.csv'))"
   ]
  },
  {
   "cell_type": "code",
   "execution_count": 4,
   "metadata": {},
   "outputs": [
    {
     "data": {
      "text/plain": [
       "Index([u'fips', u'county_name', u'state_postal', u'region', u'election_date',\n",
       "       u'racetype', u'tvotes', u'clinton', u'obama', u'edwards', u'margin',\n",
       "       u'winner', u'POP05_SQMI', u'popUnder30_00', u'pop65up_00',\n",
       "       u'presVote04', u'kerry04', u'Bush04', u'pres04margin', u'pres04winner',\n",
       "       u'pop06', u'pop00', u'hisp06', u'white06', u'black06', u'indian06',\n",
       "       u'asian06', u'hawaii06', u'mixed06', u'pct_less_30k', u'pct_more_100k',\n",
       "       u'pct_hs_grad', u'pct_labor_force', u'pct_homeowner', u'unempFeb07',\n",
       "       u'unempFeb08', u'unempChg', u'pctUnins00', u'subForPctHomes',\n",
       "       u'poverty05', u'median_hhi05', u'Catholic', u'So.Bapt.Conv',\n",
       "       u'Un.Methodist', u'E.L.C.A.', u'Construction', u'Manufacturing',\n",
       "       u'FinancialActivities', u'GoodsProducing', u'ServiceProviding'],\n",
       "      dtype='object')"
      ]
     },
     "execution_count": 4,
     "metadata": {},
     "output_type": "execute_result"
    }
   ],
   "source": [
    "df.columns"
   ]
  },
  {
   "cell_type": "code",
   "execution_count": 19,
   "metadata": {},
   "outputs": [
    {
     "data": {
      "text/plain": [
       "0       1.0\n",
       "1       0.0\n",
       "2       1.0\n",
       "3       0.0\n",
       "4       0.0\n",
       "       ... \n",
       "2256    0.0\n",
       "2257    1.0\n",
       "2258    1.0\n",
       "2259    1.0\n",
       "2260    0.0\n",
       "Name: c, Length: 2261, dtype: float64"
      ]
     },
     "execution_count": 19,
     "metadata": {},
     "output_type": "execute_result"
    }
   ],
   "source": [
    "# TODO\n",
    "df.winner.value_counts(dropna = False)\n",
    "df['c'] = (df.winner == 'obama') *1.\n",
    "df['c']"
   ]
  },
  {
   "cell_type": "markdown",
   "metadata": {},
   "source": [
    "### First cut: Is a county more than 20% black?"
   ]
  },
  {
   "cell_type": "code",
   "execution_count": 29,
   "metadata": {},
   "outputs": [],
   "source": [
    "# TODO\n",
    "df['pct_black06'] = df.black06/df.pop06\n"
   ]
  },
  {
   "cell_type": "markdown",
   "metadata": {},
   "source": [
    "#### First cut/right node"
   ]
  },
  {
   "cell_type": "code",
   "execution_count": 30,
   "metadata": {
    "collapsed": true
   },
   "outputs": [],
   "source": [
    "# TODO\n",
    "parent_df = df"
   ]
  },
  {
   "cell_type": "code",
   "execution_count": 33,
   "metadata": {},
   "outputs": [
    {
     "data": {
      "text/html": [
       "<div>\n",
       "<style>\n",
       "    .dataframe thead tr:only-child th {\n",
       "        text-align: right;\n",
       "    }\n",
       "\n",
       "    .dataframe thead th {\n",
       "        text-align: left;\n",
       "    }\n",
       "\n",
       "    .dataframe tbody tr th {\n",
       "        vertical-align: top;\n",
       "    }\n",
       "</style>\n",
       "<table border=\"1\" class=\"dataframe\">\n",
       "  <thead>\n",
       "    <tr style=\"text-align: right;\">\n",
       "      <th></th>\n",
       "      <th>fips</th>\n",
       "      <th>county_name</th>\n",
       "      <th>state_postal</th>\n",
       "      <th>region</th>\n",
       "      <th>election_date</th>\n",
       "      <th>...</th>\n",
       "      <th>FinancialActivities</th>\n",
       "      <th>GoodsProducing</th>\n",
       "      <th>ServiceProviding</th>\n",
       "      <th>c</th>\n",
       "      <th>pct_black06</th>\n",
       "    </tr>\n",
       "  </thead>\n",
       "  <tbody>\n",
       "    <tr>\n",
       "      <th>0</th>\n",
       "      <td>1001</td>\n",
       "      <td>Autauga</td>\n",
       "      <td>AL</td>\n",
       "      <td>S</td>\n",
       "      <td>2/5/08</td>\n",
       "      <td>...</td>\n",
       "      <td>5.366229</td>\n",
       "      <td>26.776236</td>\n",
       "      <td>73.223764</td>\n",
       "      <td>1.0</td>\n",
       "      <td>0.172109</td>\n",
       "    </tr>\n",
       "    <tr>\n",
       "      <th>1</th>\n",
       "      <td>1003</td>\n",
       "      <td>Baldwin</td>\n",
       "      <td>AL</td>\n",
       "      <td>S</td>\n",
       "      <td>2/5/08</td>\n",
       "      <td>...</td>\n",
       "      <td>7.923872</td>\n",
       "      <td>21.282357</td>\n",
       "      <td>78.717643</td>\n",
       "      <td>0.0</td>\n",
       "      <td>0.096363</td>\n",
       "    </tr>\n",
       "    <tr>\n",
       "      <th>4</th>\n",
       "      <td>1009</td>\n",
       "      <td>Blount</td>\n",
       "      <td>AL</td>\n",
       "      <td>S</td>\n",
       "      <td>2/5/08</td>\n",
       "      <td>...</td>\n",
       "      <td>4.300316</td>\n",
       "      <td>34.129339</td>\n",
       "      <td>65.870661</td>\n",
       "      <td>0.0</td>\n",
       "      <td>0.015451</td>\n",
       "    </tr>\n",
       "    <tr>\n",
       "      <th>7</th>\n",
       "      <td>1015</td>\n",
       "      <td>Calhoun</td>\n",
       "      <td>AL</td>\n",
       "      <td>S</td>\n",
       "      <td>2/5/08</td>\n",
       "      <td>...</td>\n",
       "      <td>3.544540</td>\n",
       "      <td>24.312853</td>\n",
       "      <td>75.687147</td>\n",
       "      <td>0.0</td>\n",
       "      <td>0.196434</td>\n",
       "    </tr>\n",
       "    <tr>\n",
       "      <th>9</th>\n",
       "      <td>1019</td>\n",
       "      <td>Cherokee</td>\n",
       "      <td>AL</td>\n",
       "      <td>S</td>\n",
       "      <td>2/5/08</td>\n",
       "      <td>...</td>\n",
       "      <td>4.160713</td>\n",
       "      <td>37.984366</td>\n",
       "      <td>62.015634</td>\n",
       "      <td>0.0</td>\n",
       "      <td>0.054619</td>\n",
       "    </tr>\n",
       "    <tr>\n",
       "      <th>...</th>\n",
       "      <td>...</td>\n",
       "      <td>...</td>\n",
       "      <td>...</td>\n",
       "      <td>...</td>\n",
       "      <td>...</td>\n",
       "      <td>...</td>\n",
       "      <td>...</td>\n",
       "      <td>...</td>\n",
       "      <td>...</td>\n",
       "      <td>...</td>\n",
       "      <td>...</td>\n",
       "    </tr>\n",
       "    <tr>\n",
       "      <th>2256</th>\n",
       "      <td>56037</td>\n",
       "      <td>Sweetwater</td>\n",
       "      <td>WY</td>\n",
       "      <td>W</td>\n",
       "      <td>3/8/08</td>\n",
       "      <td>...</td>\n",
       "      <td>4.383050</td>\n",
       "      <td>42.670654</td>\n",
       "      <td>57.329346</td>\n",
       "      <td>0.0</td>\n",
       "      <td>0.008952</td>\n",
       "    </tr>\n",
       "    <tr>\n",
       "      <th>2257</th>\n",
       "      <td>56039</td>\n",
       "      <td>Teton</td>\n",
       "      <td>WY</td>\n",
       "      <td>W</td>\n",
       "      <td>3/8/08</td>\n",
       "      <td>...</td>\n",
       "      <td>5.465895</td>\n",
       "      <td>14.914934</td>\n",
       "      <td>85.085066</td>\n",
       "      <td>1.0</td>\n",
       "      <td>0.002022</td>\n",
       "    </tr>\n",
       "    <tr>\n",
       "      <th>2258</th>\n",
       "      <td>56041</td>\n",
       "      <td>Uinta</td>\n",
       "      <td>WY</td>\n",
       "      <td>W</td>\n",
       "      <td>3/8/08</td>\n",
       "      <td>...</td>\n",
       "      <td>5.170457</td>\n",
       "      <td>32.132498</td>\n",
       "      <td>67.867502</td>\n",
       "      <td>1.0</td>\n",
       "      <td>0.000989</td>\n",
       "    </tr>\n",
       "    <tr>\n",
       "      <th>2259</th>\n",
       "      <td>56043</td>\n",
       "      <td>Washakie</td>\n",
       "      <td>WY</td>\n",
       "      <td>W</td>\n",
       "      <td>3/8/08</td>\n",
       "      <td>...</td>\n",
       "      <td>6.323161</td>\n",
       "      <td>34.040552</td>\n",
       "      <td>65.959448</td>\n",
       "      <td>1.0</td>\n",
       "      <td>0.001023</td>\n",
       "    </tr>\n",
       "    <tr>\n",
       "      <th>2260</th>\n",
       "      <td>56045</td>\n",
       "      <td>Weston</td>\n",
       "      <td>WY</td>\n",
       "      <td>W</td>\n",
       "      <td>3/8/08</td>\n",
       "      <td>...</td>\n",
       "      <td>5.249570</td>\n",
       "      <td>33.584337</td>\n",
       "      <td>66.415663</td>\n",
       "      <td>0.0</td>\n",
       "      <td>0.001331</td>\n",
       "    </tr>\n",
       "  </tbody>\n",
       "</table>\n",
       "<p>1810 rows × 52 columns</p>\n",
       "</div>"
      ],
      "text/plain": [
       "       fips county_name state_postal region election_date     ...       \\\n",
       "0      1001     Autauga           AL      S        2/5/08     ...        \n",
       "1      1003     Baldwin           AL      S        2/5/08     ...        \n",
       "4      1009      Blount           AL      S        2/5/08     ...        \n",
       "7      1015     Calhoun           AL      S        2/5/08     ...        \n",
       "9      1019    Cherokee           AL      S        2/5/08     ...        \n",
       "...     ...         ...          ...    ...           ...     ...        \n",
       "2256  56037  Sweetwater           WY      W        3/8/08     ...        \n",
       "2257  56039       Teton           WY      W        3/8/08     ...        \n",
       "2258  56041       Uinta           WY      W        3/8/08     ...        \n",
       "2259  56043    Washakie           WY      W        3/8/08     ...        \n",
       "2260  56045      Weston           WY      W        3/8/08     ...        \n",
       "\n",
       "     FinancialActivities  GoodsProducing  ServiceProviding    c  pct_black06  \n",
       "0               5.366229       26.776236         73.223764  1.0     0.172109  \n",
       "1               7.923872       21.282357         78.717643  0.0     0.096363  \n",
       "4               4.300316       34.129339         65.870661  0.0     0.015451  \n",
       "7               3.544540       24.312853         75.687147  0.0     0.196434  \n",
       "9               4.160713       37.984366         62.015634  0.0     0.054619  \n",
       "...                  ...             ...               ...  ...          ...  \n",
       "2256            4.383050       42.670654         57.329346  0.0     0.008952  \n",
       "2257            5.465895       14.914934         85.085066  1.0     0.002022  \n",
       "2258            5.170457       32.132498         67.867502  1.0     0.000989  \n",
       "2259            6.323161       34.040552         65.959448  1.0     0.001023  \n",
       "2260            5.249570       33.584337         66.415663  0.0     0.001331  \n",
       "\n",
       "[1810 rows x 52 columns]"
      ]
     },
     "execution_count": 33,
     "metadata": {},
     "output_type": "execute_result"
    }
   ],
   "source": [
    "left_child_df= parent_df[parent_df.pct_black06 < 0.2]\n",
    "left_child_df"
   ]
  },
  {
   "cell_type": "code",
   "execution_count": 34,
   "metadata": {},
   "outputs": [
    {
     "data": {
      "text/html": [
       "<div>\n",
       "<style>\n",
       "    .dataframe thead tr:only-child th {\n",
       "        text-align: right;\n",
       "    }\n",
       "\n",
       "    .dataframe thead th {\n",
       "        text-align: left;\n",
       "    }\n",
       "\n",
       "    .dataframe tbody tr th {\n",
       "        vertical-align: top;\n",
       "    }\n",
       "</style>\n",
       "<table border=\"1\" class=\"dataframe\">\n",
       "  <thead>\n",
       "    <tr style=\"text-align: right;\">\n",
       "      <th></th>\n",
       "      <th>fips</th>\n",
       "      <th>county_name</th>\n",
       "      <th>state_postal</th>\n",
       "      <th>region</th>\n",
       "      <th>election_date</th>\n",
       "      <th>...</th>\n",
       "      <th>FinancialActivities</th>\n",
       "      <th>GoodsProducing</th>\n",
       "      <th>ServiceProviding</th>\n",
       "      <th>c</th>\n",
       "      <th>pct_black06</th>\n",
       "    </tr>\n",
       "  </thead>\n",
       "  <tbody>\n",
       "    <tr>\n",
       "      <th>2</th>\n",
       "      <td>1005</td>\n",
       "      <td>Barbour</td>\n",
       "      <td>AL</td>\n",
       "      <td>S</td>\n",
       "      <td>2/5/08</td>\n",
       "      <td>...</td>\n",
       "      <td>3.379843</td>\n",
       "      <td>51.275520</td>\n",
       "      <td>48.724480</td>\n",
       "      <td>1.0</td>\n",
       "      <td>0.462710</td>\n",
       "    </tr>\n",
       "    <tr>\n",
       "      <th>3</th>\n",
       "      <td>1007</td>\n",
       "      <td>Bibb</td>\n",
       "      <td>AL</td>\n",
       "      <td>S</td>\n",
       "      <td>2/5/08</td>\n",
       "      <td>...</td>\n",
       "      <td>3.477562</td>\n",
       "      <td>42.557099</td>\n",
       "      <td>57.442901</td>\n",
       "      <td>0.0</td>\n",
       "      <td>0.219021</td>\n",
       "    </tr>\n",
       "    <tr>\n",
       "      <th>5</th>\n",
       "      <td>1011</td>\n",
       "      <td>Bullock</td>\n",
       "      <td>AL</td>\n",
       "      <td>S</td>\n",
       "      <td>2/5/08</td>\n",
       "      <td>...</td>\n",
       "      <td>3.523767</td>\n",
       "      <td>56.860099</td>\n",
       "      <td>43.139901</td>\n",
       "      <td>1.0</td>\n",
       "      <td>0.698240</td>\n",
       "    </tr>\n",
       "    <tr>\n",
       "      <th>6</th>\n",
       "      <td>1013</td>\n",
       "      <td>Butler</td>\n",
       "      <td>AL</td>\n",
       "      <td>S</td>\n",
       "      <td>2/5/08</td>\n",
       "      <td>...</td>\n",
       "      <td>3.390709</td>\n",
       "      <td>32.041909</td>\n",
       "      <td>67.958091</td>\n",
       "      <td>1.0</td>\n",
       "      <td>0.414766</td>\n",
       "    </tr>\n",
       "    <tr>\n",
       "      <th>8</th>\n",
       "      <td>1017</td>\n",
       "      <td>Chambers</td>\n",
       "      <td>AL</td>\n",
       "      <td>S</td>\n",
       "      <td>2/5/08</td>\n",
       "      <td>...</td>\n",
       "      <td>2.344602</td>\n",
       "      <td>42.755881</td>\n",
       "      <td>57.244119</td>\n",
       "      <td>1.0</td>\n",
       "      <td>0.378411</td>\n",
       "    </tr>\n",
       "    <tr>\n",
       "      <th>...</th>\n",
       "      <td>...</td>\n",
       "      <td>...</td>\n",
       "      <td>...</td>\n",
       "      <td>...</td>\n",
       "      <td>...</td>\n",
       "      <td>...</td>\n",
       "      <td>...</td>\n",
       "      <td>...</td>\n",
       "      <td>...</td>\n",
       "      <td>...</td>\n",
       "      <td>...</td>\n",
       "    </tr>\n",
       "    <tr>\n",
       "      <th>2116</th>\n",
       "      <td>51740</td>\n",
       "      <td>Portsmouth</td>\n",
       "      <td>VA</td>\n",
       "      <td>S</td>\n",
       "      <td>2/12/08</td>\n",
       "      <td>...</td>\n",
       "      <td>4.697560</td>\n",
       "      <td>18.229466</td>\n",
       "      <td>81.770534</td>\n",
       "      <td>1.0</td>\n",
       "      <td>0.523284</td>\n",
       "    </tr>\n",
       "    <tr>\n",
       "      <th>2118</th>\n",
       "      <td>51760</td>\n",
       "      <td>Richmond City</td>\n",
       "      <td>VA</td>\n",
       "      <td>S</td>\n",
       "      <td>2/12/08</td>\n",
       "      <td>...</td>\n",
       "      <td>8.382545</td>\n",
       "      <td>15.069478</td>\n",
       "      <td>84.930522</td>\n",
       "      <td>1.0</td>\n",
       "      <td>0.542732</td>\n",
       "    </tr>\n",
       "    <tr>\n",
       "      <th>2119</th>\n",
       "      <td>51770</td>\n",
       "      <td>Roanoke City</td>\n",
       "      <td>VA</td>\n",
       "      <td>S</td>\n",
       "      <td>2/12/08</td>\n",
       "      <td>...</td>\n",
       "      <td>6.429098</td>\n",
       "      <td>15.132792</td>\n",
       "      <td>84.867208</td>\n",
       "      <td>1.0</td>\n",
       "      <td>0.269464</td>\n",
       "    </tr>\n",
       "    <tr>\n",
       "      <th>2122</th>\n",
       "      <td>51800</td>\n",
       "      <td>Suffolk</td>\n",
       "      <td>VA</td>\n",
       "      <td>S</td>\n",
       "      <td>2/12/08</td>\n",
       "      <td>...</td>\n",
       "      <td>3.544776</td>\n",
       "      <td>20.760779</td>\n",
       "      <td>79.239221</td>\n",
       "      <td>1.0</td>\n",
       "      <td>0.411479</td>\n",
       "    </tr>\n",
       "    <tr>\n",
       "      <th>2206</th>\n",
       "      <td>55079</td>\n",
       "      <td>Milwaukee</td>\n",
       "      <td>WI</td>\n",
       "      <td>MW</td>\n",
       "      <td>2/19/08</td>\n",
       "      <td>...</td>\n",
       "      <td>8.410672</td>\n",
       "      <td>17.095702</td>\n",
       "      <td>82.904298</td>\n",
       "      <td>1.0</td>\n",
       "      <td>0.259298</td>\n",
       "    </tr>\n",
       "  </tbody>\n",
       "</table>\n",
       "<p>450 rows × 52 columns</p>\n",
       "</div>"
      ],
      "text/plain": [
       "       fips    county_name state_postal region election_date     ...       \\\n",
       "2      1005        Barbour           AL      S        2/5/08     ...        \n",
       "3      1007           Bibb           AL      S        2/5/08     ...        \n",
       "5      1011        Bullock           AL      S        2/5/08     ...        \n",
       "6      1013         Butler           AL      S        2/5/08     ...        \n",
       "8      1017       Chambers           AL      S        2/5/08     ...        \n",
       "...     ...            ...          ...    ...           ...     ...        \n",
       "2116  51740     Portsmouth           VA      S       2/12/08     ...        \n",
       "2118  51760  Richmond City           VA      S       2/12/08     ...        \n",
       "2119  51770   Roanoke City           VA      S       2/12/08     ...        \n",
       "2122  51800        Suffolk           VA      S       2/12/08     ...        \n",
       "2206  55079      Milwaukee           WI     MW       2/19/08     ...        \n",
       "\n",
       "     FinancialActivities  GoodsProducing  ServiceProviding    c  pct_black06  \n",
       "2               3.379843       51.275520         48.724480  1.0     0.462710  \n",
       "3               3.477562       42.557099         57.442901  0.0     0.219021  \n",
       "5               3.523767       56.860099         43.139901  1.0     0.698240  \n",
       "6               3.390709       32.041909         67.958091  1.0     0.414766  \n",
       "8               2.344602       42.755881         57.244119  1.0     0.378411  \n",
       "...                  ...             ...               ...  ...          ...  \n",
       "2116            4.697560       18.229466         81.770534  1.0     0.523284  \n",
       "2118            8.382545       15.069478         84.930522  1.0     0.542732  \n",
       "2119            6.429098       15.132792         84.867208  1.0     0.269464  \n",
       "2122            3.544776       20.760779         79.239221  1.0     0.411479  \n",
       "2206            8.410672       17.095702         82.904298  1.0     0.259298  \n",
       "\n",
       "[450 rows x 52 columns]"
      ]
     },
     "execution_count": 34,
     "metadata": {},
     "output_type": "execute_result"
    }
   ],
   "source": [
    "right_child_df= parent_df[parent_df.pct_black06 >= 0.2]\n",
    "right_child_df"
   ]
  },
  {
   "cell_type": "code",
   "execution_count": 35,
   "metadata": {
    "collapsed": true
   },
   "outputs": [],
   "source": [
    "def obama_vs_clinton(df):\n",
    "    obama = (df.c == 1).sum()\n",
    "    clinton = (df.c == 0).sum()\n",
    "    if obama > clinton:\n",
    "        print 'Obama wins these counties {} to {}.'.format(obama, clinton)\n",
    "    elif clinton > obama:\n",
    "        print 'Clinton wins these counties {} to {}.'.format(clinton, obama)\n",
    "    else:\n",
    "        print 'Obama and Clinton tie in these counties {} {}.'.format(obama, clinton)"
   ]
  },
  {
   "cell_type": "code",
   "execution_count": 36,
   "metadata": {},
   "outputs": [
    {
     "name": "stdout",
     "output_type": "stream",
     "text": [
      "Obama wins these counties 380 to 70.\n"
     ]
    }
   ],
   "source": [
    "obama_vs_clinton(right_child_df)"
   ]
  },
  {
   "cell_type": "markdown",
   "metadata": {},
   "source": [
    "### Second cut: Is high school graduation rate higher than 78%?"
   ]
  },
  {
   "cell_type": "code",
   "execution_count": 37,
   "metadata": {
    "collapsed": true
   },
   "outputs": [],
   "source": [
    "# TODO\n",
    "parent_df = left_child_df"
   ]
  },
  {
   "cell_type": "code",
   "execution_count": 38,
   "metadata": {
    "collapsed": true
   },
   "outputs": [],
   "source": [
    "left_child_df= parent_df[parent_df.pct_hs_grad <= 0.78]\n",
    "right_child_df= parent_df[parent_df.pct_hs_grad > 0.78]"
   ]
  },
  {
   "cell_type": "code",
   "execution_count": 39,
   "metadata": {},
   "outputs": [
    {
     "name": "stdout",
     "output_type": "stream",
     "text": [
      "Clinton wins these counties 714 to 93.\n"
     ]
    }
   ],
   "source": [
    "obama_vs_clinton(left_child_df)"
   ]
  },
  {
   "cell_type": "markdown",
   "metadata": {},
   "source": [
    "### Third cut: Is high school graduation rate higher than 87%?"
   ]
  },
  {
   "cell_type": "code",
   "execution_count": 40,
   "metadata": {
    "collapsed": true
   },
   "outputs": [],
   "source": [
    "# TODO\n",
    "parent_df = right_child_df\n",
    "left_child_df= parent_df[parent_df.pct_hs_grad <= 0.87]\n",
    "right_child_df= parent_df[parent_df.pct_hs_grad > 0.87]"
   ]
  },
  {
   "cell_type": "code",
   "execution_count": 41,
   "metadata": {},
   "outputs": [
    {
     "name": "stdout",
     "output_type": "stream",
     "text": [
      "Obama wins these counties 176 to 36.\n"
     ]
    }
   ],
   "source": [
    "obama_vs_clinton(right_child_df)"
   ]
  },
  {
   "cell_type": "markdown",
   "metadata": {},
   "source": [
    "## Part B | Building the 2008 Democratic Primaries Decision Tree by Hand"
   ]
  },
  {
   "cell_type": "code",
   "execution_count": null,
   "metadata": {
    "collapsed": true
   },
   "outputs": [],
   "source": [
    "class Node:\n",
    "\n",
    "    @staticmethod\n",
    "    def root(root_df):\n",
    "        cs = sorted(set(root_df.c))\n",
    "        return Node(cs, root_df)\n",
    "\n",
    "    def decision(self, left_filter):\n",
    "        # Collect the observations for which the decision split is true and\n",
    "        # create the corresponding left node\n",
    "\n",
    "        left_filter = left_filter(self.df)\n",
    "        left_df = self.df[left_filter]\n",
    "        self.left = Node(self.cs, left_df)\n",
    "\n",
    "        # Same thing on the right side but for the observations that don't\n",
    "        # satisfy the decision split (the \"else\")\n",
    "\n",
    "        right_df = self.df.drop(left_df.index)\n",
    "        self.right = Node(self.cs, right_df)\n",
    "\n",
    "        # The entropy after the decision split is the weighted average of the\n",
    "        # children entropy\n",
    "\n",
    "        self.after = (self.left.samples * self.left.before\n",
    "                      + self.right.samples * self.right.before) / self.samples\n",
    "\n",
    "        # The information gain corresponds to the entropy lost between the\n",
    "        # parent node (this node and the \"before\") and its child (the \"after\")\n",
    "\n",
    "        self.information_gain = self.before - self.after\n",
    "\n",
    "        return self\n",
    "\n",
    "    def __init__(self, cs, df):\n",
    "        self.cs = cs\n",
    "        self.df = df\n",
    "\n",
    "        # Counts of the remaining observations in the subspace per classes\n",
    "        self.counts = [(self.df.c == c).sum() for c in self.cs]\n",
    "\n",
    "        # Number of observations in the subspace\n",
    "        self.samples = sum(self.counts)\n",
    "\n",
    "        # For empty subspaces, probabilties and entropy are set to zero\n",
    "        if self.samples == 0:\n",
    "            self.probabilities = [.0 for count in self.counts]\n",
    "            self.before = .0\n",
    "        else:\n",
    "            self.probabilities = [1. * count / self.samples for count in self.counts]\n",
    "            self.before = - sum(map(lambda p: p * math.log(p, 2),\n",
    "                                    filter(lambda p : p > .0, self.probabilities)))\n",
    "\n",
    "    def status(self):\n",
    "        print 'classes                       =', self.cs\n",
    "        print 'before:'\n",
    "        print \"\\tparent:\"\n",
    "        print \"\\t\\tsamples       =\", self.samples\n",
    "        print \"\\t\\tcounts        =\", self.counts\n",
    "        print \"\\t\\tprobabilities =\", self.probabilities\n",
    "        print \"\\t\\tentropy       =\", self.before\n",
    "        print 'after:'\n",
    "        print \"\\tleft child:\"\n",
    "        print \"\\t\\tsamples       =\", self.left.samples\n",
    "        print \"\\t\\tcounts        =\", self.left.counts\n",
    "        print \"\\t\\tprobabilities =\", self.left.probabilities\n",
    "        print \"\\t\\tentropy       =\", self.left.before\n",
    "        print \"\\tright child:\"\n",
    "        print \"\\t\\tsamples       =\", self.right.samples\n",
    "        print \"\\t\\tcounts        =\", self.right.counts\n",
    "        print \"\\t\\tprobabilities =\", self.right.probabilities\n",
    "        print \"\\t\\tentropy       =\", self.right.before\n",
    "        print\n",
    "        print 'before entropy                =', self.before\n",
    "        print 'after entropy                 =', self.after\n",
    "        print 'information gain              =', self.information_gain"
   ]
  },
  {
   "cell_type": "code",
   "execution_count": null,
   "metadata": {
    "collapsed": true
   },
   "outputs": [],
   "source": [
    "df.c = df.winner"
   ]
  },
  {
   "cell_type": "markdown",
   "metadata": {},
   "source": [
    "### First cut"
   ]
  },
  {
   "cell_type": "code",
   "execution_count": null,
   "metadata": {
    "collapsed": true
   },
   "outputs": [],
   "source": [
    "# TODO"
   ]
  },
  {
   "cell_type": "markdown",
   "metadata": {},
   "source": [
    "#### Candidate #1: Is a county more than 20% black?"
   ]
  },
  {
   "cell_type": "code",
   "execution_count": null,
   "metadata": {
    "collapsed": true
   },
   "outputs": [],
   "source": [
    "# TODO"
   ]
  },
  {
   "cell_type": "markdown",
   "metadata": {},
   "source": [
    "#### Candidate #2: Is high school graduation rate higher than 78%?"
   ]
  },
  {
   "cell_type": "code",
   "execution_count": null,
   "metadata": {
    "collapsed": true
   },
   "outputs": [],
   "source": [
    "# TODO"
   ]
  },
  {
   "cell_type": "markdown",
   "metadata": {},
   "source": [
    "#### Candidate #3: Is high school graduation rate higher than 87%?"
   ]
  },
  {
   "cell_type": "code",
   "execution_count": null,
   "metadata": {
    "collapsed": true
   },
   "outputs": [],
   "source": [
    "# TODO"
   ]
  },
  {
   "cell_type": "markdown",
   "metadata": {},
   "source": [
    "### Second cut"
   ]
  },
  {
   "cell_type": "code",
   "execution_count": null,
   "metadata": {
    "collapsed": true
   },
   "outputs": [],
   "source": [
    "# TODO"
   ]
  },
  {
   "cell_type": "markdown",
   "metadata": {},
   "source": [
    "### Third cut"
   ]
  },
  {
   "cell_type": "code",
   "execution_count": null,
   "metadata": {
    "collapsed": true
   },
   "outputs": [],
   "source": [
    "# TODO"
   ]
  }
 ],
 "metadata": {
  "kernelspec": {
   "display_name": "Python 2",
   "language": "python",
   "name": "python2"
  },
  "language_info": {
   "codemirror_mode": {
    "name": "ipython",
    "version": 2
   },
   "file_extension": ".py",
   "mimetype": "text/x-python",
   "name": "python",
   "nbconvert_exporter": "python",
   "pygments_lexer": "ipython2",
   "version": "2.7.13"
  }
 },
 "nbformat": 4,
 "nbformat_minor": 1
}
