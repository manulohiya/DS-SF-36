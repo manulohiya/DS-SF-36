{
 "cells": [
  {
   "cell_type": "markdown",
   "metadata": {},
   "source": [
    "#### Exercise 1\n",
    "\n",
    "Create a function for the rock, paper, and scissors game. The function should have two arguments: user1's move and user2's move. The function should compare the two moves and output which move wins or if it results in a tie.\n",
    "\n",
    "Remember: Paper > Rock, Rock > Scissors, Scissors > Paper.\n",
    "\n",
    "\n",
    "Example:\n",
    "\n",
    "function(\"rock\", \"paper\")\n",
    "\n",
    "-> \"Paper wins\"\n",
    "\n",
    "function(\"scissors\", \"scissors\")\n",
    "\n",
    "-> \"Tie\""
   ]
  },
  {
   "cell_type": "code",
   "execution_count": 6,
   "metadata": {},
   "outputs": [
    {
     "name": "stdout",
     "output_type": "stream",
     "text": [
      "User 1, Enter move: hello\n",
      "User 2, Enter move: hello\n"
     ]
    }
   ],
   "source": [
    "user1 = raw_input(\"User 1, Enter move: \")\n",
    "user2 = raw_input(\"User 2, Enter move: \")\n",
    "\n"
   ]
  },
  {
   "cell_type": "markdown",
   "metadata": {},
   "source": [
    "#### Exercise 2\n",
    "Write a function that takes a long string containing multiple words. Print the same string, except with the words in backwards order. For example, say I type the string:\n",
    "\n",
    "      -\"My name is Michele\"\n",
    "  \n",
    "Then I would get the string:\n",
    "\n",
    "      -\"Michele is name My\"\n",
    "\n",
    "\n"
   ]
  },
  {
   "cell_type": "code",
   "execution_count": 4,
   "metadata": {},
   "outputs": [
    {
     "data": {
      "text/plain": [
       "['Michele', 'is', 'name', 'My']"
      ]
     },
     "execution_count": 4,
     "metadata": {},
     "output_type": "execute_result"
    }
   ],
   "source": [
    "def reverse(sentence):\n",
    "    words = sentence.split(' ')\n",
    "    for word in words:\n",
    "        ans = words[::-1]\n",
    "    return ans\n",
    "\n",
    "reverse(\"My name is Michele\")"
   ]
  },
  {
   "cell_type": "markdown",
   "metadata": {},
   "source": [
    "#### Exercise 3\n",
    "\n",
    "Write a function that takes a list and returns a new list that contains all the elements of the first list minus all the duplicates.\n",
    "\n",
    "Input: [2,3,4,4,5,5,5,6,6] \n",
    "\n",
    "Output: [2,3,4,5,6]"
   ]
  },
  {
   "cell_type": "code",
   "execution_count": 10,
   "metadata": {},
   "outputs": [
    {
     "name": "stdout",
     "output_type": "stream",
     "text": [
      "2\n",
      "3\n",
      "4\n",
      "5\n",
      "6\n"
     ]
    }
   ],
   "source": [
    "def dedupe(list):\n",
    "    dict = {}\n",
    "    for el in list:\n",
    "        if el in dict:\n",
    "            dict[el] += 1\n",
    "        else:\n",
    "            dict[el] = 1\n",
    "    for keys in dict:\n",
    "        print keys\n",
    "dedupe([2,3,4,4,5,5,5,6,6])    "
   ]
  },
  {
   "cell_type": "markdown",
   "metadata": {},
   "source": [
    "#### Exercise 4\n",
    "Given a list of integers, return the integers that can be divided by other integers in that list.\n",
    "\n",
    "Input: [6,8,3,2,4,5,10]\n",
    "\n",
    "Output: [6,8,4,10]"
   ]
  },
  {
   "cell_type": "code",
   "execution_count": 17,
   "metadata": {},
   "outputs": [
    {
     "data": {
      "text/plain": [
       "[6, 8, 4, 10]"
      ]
     },
     "execution_count": 17,
     "metadata": {},
     "output_type": "execute_result"
    }
   ],
   "source": [
    "def divided(list):\n",
    "    ans = []\n",
    "    for num in list:\n",
    "        for num2 in list:\n",
    "            if num != num2 and num % num2 == 0:\n",
    "                if num not in ans: \n",
    "                    ans.append(num)\n",
    "    return ans \n",
    "    \n",
    "divided([6,8,3,2,4,5,10])"
   ]
  },
  {
   "cell_type": "markdown",
   "metadata": {},
   "source": [
    "#### Exercise 5\n",
    "Create an anagram detection function. This function will take in a list of strings and returns the strings that have anagrams in that list.\n",
    "\n",
    "Input: ['bat', 'rats', 'god', 'dog', 'cat', 'arts', 'star']\n",
    "\n",
    "Output: ['rats', 'god', 'dog', 'arts', 'star'] "
   ]
  },
  {
   "cell_type": "code",
   "execution_count": 63,
   "metadata": {},
   "outputs": [
    {
     "name": "stdout",
     "output_type": "stream",
     "text": [
      "['arst', 'abt', 'act', 'dgo', 'dgo', 'arst', 'arst']\n",
      "{'arst': 3, 'abt': 1, 'dgo': 2, 'act': 1}\n",
      "arst\n",
      "dgo\n"
     ]
    },
    {
     "data": {
      "text/plain": [
       "[]"
      ]
     },
     "execution_count": 63,
     "metadata": {},
     "output_type": "execute_result"
    }
   ],
   "source": [
    "def anagram(list):\n",
    "    ans = {}\n",
    "    words = []\n",
    "    output = []\n",
    "    sortList = sorted(list)\n",
    "    for word in sortList:\n",
    "        wordList = sorted(word)\n",
    "        wordSort = ''.join(wordList)\n",
    "        words.append(wordSort)\n",
    "    print words\n",
    "\n",
    "    for word in words:\n",
    "       if word in ans:\n",
    "            ans[word] += 1\n",
    "       else:\n",
    "            ans[word] = 1\n",
    "    print ans\n",
    "    \n",
    "    for key,value in ans.items():\n",
    "        if value>1:\n",
    "            print key\n",
    "    return output\n",
    "        \n",
    "    \n",
    "\n",
    "\n",
    "anagram(['bat', 'rats', 'god', 'dog', 'cat', 'arts', 'star'])"
   ]
  },
  {
   "cell_type": "markdown",
   "metadata": {},
   "source": [
    "#### Exercise 6\n",
    "\n",
    "Create a function that calculates the sums of each integer value in a number.\n",
    "\n",
    "Input: 1234\n",
    "\n",
    "Output: 1 + 2 + 3 + 4 =10"
   ]
  },
  {
   "cell_type": "markdown",
   "metadata": {},
   "source": [
    "#### <b>What to do if you're finished</b>\n",
    "\n",
    "Try to do some Python exercises on the following websites:\n",
    "\n",
    "-http://www.practicepython.org/    \n",
    "    \n",
    "-https://github.com/zhiwehu/Python-programming-exercises\n",
    "\n",
    "-https://projecteuler.net/archives\n",
    "\n",
    "-https://www.quora.com/Where-can-I-find-basic-python-practice-problems\n",
    "\n",
    "-http://codingbat.com/python\n",
    "\n",
    "-http://exercism.io/languages/python/exercises"
   ]
  },
  {
   "cell_type": "code",
   "execution_count": null,
   "metadata": {
    "collapsed": true
   },
   "outputs": [],
   "source": []
  }
 ],
 "metadata": {
  "kernelspec": {
   "display_name": "Python 2",
   "language": "python",
   "name": "python2"
  },
  "language_info": {
   "codemirror_mode": {
    "name": "ipython",
    "version": 2
   },
   "file_extension": ".py",
   "mimetype": "text/x-python",
   "name": "python",
   "nbconvert_exporter": "python",
   "pygments_lexer": "ipython2",
   "version": "2.7.13"
  }
 },
 "nbformat": 4,
 "nbformat_minor": 2
}
