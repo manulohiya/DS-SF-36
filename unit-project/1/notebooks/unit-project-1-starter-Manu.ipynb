{
 "cells": [
  {
   "cell_type": "markdown",
   "metadata": {},
   "source": [
    "# DS-SF-36 | Unit Project | 1 | Research Design | Starter Code"
   ]
  },
  {
   "cell_type": "markdown",
   "metadata": {},
   "source": [
    "In this first unit project, you will create a framework to scope out data science projects.  This framework will provide you with a guide to develop a well-articulated problem statement and analysis plan that will be robust and reproducible."
   ]
  },
  {
   "cell_type": "markdown",
   "metadata": {},
   "source": [
    "## Part A.  Evaluate the following problem statement:"
   ]
  },
  {
   "cell_type": "markdown",
   "metadata": {},
   "source": [
    "> Determine which factors most impact how many average check-ins a restaurants gets. How do we predict how many visitors a restaurant is going to get? \n",
    "\n",
    "> PROJECT 1 - VISUALIZATION: I will first find the list of all restaurants in SF from dataSF (https://data.sfgov.org/Health-and-Social-Services/Restaurant-Scores-LIVES-Standard/pyih-qa8i) which has a list of all restaurants, their addresses, and health scores. Not all the lat longs are populated so I will fill in the gaps by using a geocoding library. I will take this dataset and plot it on google maps. I will also do some EDA and group the level of risk against location and see if there are any trends\n",
    "\n",
    "> PROJECT 2 - EDA AND ML: I will supplement the healthscores data set with Foursquare's check-in data. In order to pull the per restaurant data from the venues API (https://developer.foursquare.com/docs/responses/venue), I will need to loop through each restaurant name and pull the foursquare data at a snapshot in time. I will then need to join the 2 data sets on restaurant name to create one dataset that consists of both healthscore, checkin, and online profile (rating, photos, menu) data. I can then regress these factors against checkin data to find any relations. I will run various ML algorithms that we have learned until then on both the training and the test data set.\n",
    "\n",
    "> PROJECT 3 - ML + SENTIMENT ANALYSIS: I will add a sentiment analysis of the reviews and the key phrases in the reviews (provided by the same API above) to get a sense of polarity in the reviews. I will then re-run the above analyses from project2 but with the ploarity scores and see if it makes any difference. I will also try other ML algorithms that we have learned since project 2 and summarize all my results"
   ]
  },
  {
   "cell_type": "markdown",
   "metadata": {},
   "source": [
    "> ### Question 1.  What is the outcome?"
   ]
  },
  {
   "cell_type": "markdown",
   "metadata": {},
   "source": [
    "Answer: The outcome is a prediction of how many check-ins to expect in a week given the various inputs"
   ]
  },
  {
   "cell_type": "markdown",
   "metadata": {},
   "source": [
    "> ### Question 2.  What are the predictors/covariates?"
   ]
  },
  {
   "cell_type": "markdown",
   "metadata": {},
   "source": [
    "Answer: The number of photos, whether a menu is available, health scores, sentiment analysis of recent reviews, price, sentiment analysis of key phrases"
   ]
  },
  {
   "cell_type": "markdown",
   "metadata": {},
   "source": [
    "> ### Question 3.  What timeframe is this data relevent for?"
   ]
  },
  {
   "cell_type": "markdown",
   "metadata": {},
   "source": [
    "Answer: San Francisco restaurants that are on Foursquare in July 2017"
   ]
  },
  {
   "cell_type": "markdown",
   "metadata": {},
   "source": [
    "> ### Question 4.  What is the hypothesis?"
   ]
  },
  {
   "cell_type": "markdown",
   "metadata": {},
   "source": [
    "Answer: Foot traffic is correlated with the depth of the online profile as well as health and safety scores"
   ]
  },
  {
   "cell_type": "markdown",
   "metadata": {},
   "source": [
    "## Part B.  Let's start exploring our Foursquare dataset and answer some simple questions:"
   ]
  },
  {
   "cell_type": "code",
   "execution_count": 45,
   "metadata": {},
   "outputs": [
    {
     "data": {
      "text/html": [
       "<div>\n",
       "<style>\n",
       "    .dataframe thead tr:only-child th {\n",
       "        text-align: right;\n",
       "    }\n",
       "\n",
       "    .dataframe thead th {\n",
       "        text-align: left;\n",
       "    }\n",
       "\n",
       "    .dataframe tbody tr th {\n",
       "        vertical-align: top;\n",
       "    }\n",
       "</style>\n",
       "<table border=\"1\" class=\"dataframe\">\n",
       "  <thead>\n",
       "    <tr style=\"text-align: right;\">\n",
       "      <th></th>\n",
       "      <th>business_name</th>\n",
       "      <th>business_address</th>\n",
       "      <th>business_city</th>\n",
       "      <th>business_state</th>\n",
       "      <th>business_postal_code</th>\n",
       "      <th>business_latitude</th>\n",
       "      <th>business_longitude</th>\n",
       "      <th>business_location</th>\n",
       "      <th>business_phone_number</th>\n",
       "      <th>inspection_id</th>\n",
       "      <th>inspection_date</th>\n",
       "      <th>inspection_score</th>\n",
       "      <th>inspection_type</th>\n",
       "      <th>violation_id</th>\n",
       "      <th>violation_description</th>\n",
       "      <th>risk_category</th>\n",
       "    </tr>\n",
       "    <tr>\n",
       "      <th>business_id</th>\n",
       "      <th></th>\n",
       "      <th></th>\n",
       "      <th></th>\n",
       "      <th></th>\n",
       "      <th></th>\n",
       "      <th></th>\n",
       "      <th></th>\n",
       "      <th></th>\n",
       "      <th></th>\n",
       "      <th></th>\n",
       "      <th></th>\n",
       "      <th></th>\n",
       "      <th></th>\n",
       "      <th></th>\n",
       "      <th></th>\n",
       "      <th></th>\n",
       "    </tr>\n",
       "  </thead>\n",
       "  <tbody>\n",
       "    <tr>\n",
       "      <th>10</th>\n",
       "      <td>Tiramisu Kitchen</td>\n",
       "      <td>033 Belden Pl</td>\n",
       "      <td>San Francisco</td>\n",
       "      <td>CA</td>\n",
       "      <td>94104</td>\n",
       "      <td>37.791116</td>\n",
       "      <td>-122.403816</td>\n",
       "      <td>(37.791116, -122.403816)</td>\n",
       "      <td>NaN</td>\n",
       "      <td>10_20140114</td>\n",
       "      <td>01/14/2014 12:00:00 AM</td>\n",
       "      <td>92.0</td>\n",
       "      <td>Routine - Unscheduled</td>\n",
       "      <td>10_20140114_103119</td>\n",
       "      <td>Inadequate and inaccessible handwashing facili...</td>\n",
       "      <td>Moderate Risk</td>\n",
       "    </tr>\n",
       "    <tr>\n",
       "      <th>10</th>\n",
       "      <td>Tiramisu Kitchen</td>\n",
       "      <td>033 Belden Pl</td>\n",
       "      <td>San Francisco</td>\n",
       "      <td>CA</td>\n",
       "      <td>94104</td>\n",
       "      <td>37.791116</td>\n",
       "      <td>-122.403816</td>\n",
       "      <td>(37.791116, -122.403816)</td>\n",
       "      <td>NaN</td>\n",
       "      <td>10_20140114</td>\n",
       "      <td>01/14/2014 12:00:00 AM</td>\n",
       "      <td>92.0</td>\n",
       "      <td>Routine - Unscheduled</td>\n",
       "      <td>10_20140114_103145</td>\n",
       "      <td>Improper storage of equipment utensils or linens</td>\n",
       "      <td>Low Risk</td>\n",
       "    </tr>\n",
       "    <tr>\n",
       "      <th>10</th>\n",
       "      <td>Tiramisu Kitchen</td>\n",
       "      <td>033 Belden Pl</td>\n",
       "      <td>San Francisco</td>\n",
       "      <td>CA</td>\n",
       "      <td>94104</td>\n",
       "      <td>37.791116</td>\n",
       "      <td>-122.403816</td>\n",
       "      <td>(37.791116, -122.403816)</td>\n",
       "      <td>NaN</td>\n",
       "      <td>10_20140114</td>\n",
       "      <td>01/14/2014 12:00:00 AM</td>\n",
       "      <td>92.0</td>\n",
       "      <td>Routine - Unscheduled</td>\n",
       "      <td>10_20140114_103154</td>\n",
       "      <td>Unclean or degraded floors walls or ceilings</td>\n",
       "      <td>Low Risk</td>\n",
       "    </tr>\n",
       "    <tr>\n",
       "      <th>10</th>\n",
       "      <td>Tiramisu Kitchen</td>\n",
       "      <td>033 Belden Pl</td>\n",
       "      <td>San Francisco</td>\n",
       "      <td>CA</td>\n",
       "      <td>94104</td>\n",
       "      <td>37.791116</td>\n",
       "      <td>-122.403816</td>\n",
       "      <td>(37.791116, -122.403816)</td>\n",
       "      <td>NaN</td>\n",
       "      <td>10_20140729</td>\n",
       "      <td>07/29/2014 12:00:00 AM</td>\n",
       "      <td>94.0</td>\n",
       "      <td>Routine - Unscheduled</td>\n",
       "      <td>10_20140729_103144</td>\n",
       "      <td>Unapproved or unmaintained equipment or utensils</td>\n",
       "      <td>Low Risk</td>\n",
       "    </tr>\n",
       "    <tr>\n",
       "      <th>10</th>\n",
       "      <td>Tiramisu Kitchen</td>\n",
       "      <td>033 Belden Pl</td>\n",
       "      <td>San Francisco</td>\n",
       "      <td>CA</td>\n",
       "      <td>94104</td>\n",
       "      <td>37.791116</td>\n",
       "      <td>-122.403816</td>\n",
       "      <td>(37.791116, -122.403816)</td>\n",
       "      <td>NaN</td>\n",
       "      <td>10_20140729</td>\n",
       "      <td>07/29/2014 12:00:00 AM</td>\n",
       "      <td>94.0</td>\n",
       "      <td>Routine - Unscheduled</td>\n",
       "      <td>10_20140729_103129</td>\n",
       "      <td>Insufficient hot water or running water</td>\n",
       "      <td>Moderate Risk</td>\n",
       "    </tr>\n",
       "  </tbody>\n",
       "</table>\n",
       "</div>"
      ],
      "text/plain": [
       "                business_name business_address  business_city business_state  \\\n",
       "business_id                                                                    \n",
       "10           Tiramisu Kitchen    033 Belden Pl  San Francisco             CA   \n",
       "10           Tiramisu Kitchen    033 Belden Pl  San Francisco             CA   \n",
       "10           Tiramisu Kitchen    033 Belden Pl  San Francisco             CA   \n",
       "10           Tiramisu Kitchen    033 Belden Pl  San Francisco             CA   \n",
       "10           Tiramisu Kitchen    033 Belden Pl  San Francisco             CA   \n",
       "\n",
       "            business_postal_code  business_latitude  business_longitude  \\\n",
       "business_id                                                               \n",
       "10                         94104          37.791116         -122.403816   \n",
       "10                         94104          37.791116         -122.403816   \n",
       "10                         94104          37.791116         -122.403816   \n",
       "10                         94104          37.791116         -122.403816   \n",
       "10                         94104          37.791116         -122.403816   \n",
       "\n",
       "                    business_location  business_phone_number inspection_id  \\\n",
       "business_id                                                                  \n",
       "10           (37.791116, -122.403816)                    NaN   10_20140114   \n",
       "10           (37.791116, -122.403816)                    NaN   10_20140114   \n",
       "10           (37.791116, -122.403816)                    NaN   10_20140114   \n",
       "10           (37.791116, -122.403816)                    NaN   10_20140729   \n",
       "10           (37.791116, -122.403816)                    NaN   10_20140729   \n",
       "\n",
       "                    inspection_date  inspection_score        inspection_type  \\\n",
       "business_id                                                                    \n",
       "10           01/14/2014 12:00:00 AM              92.0  Routine - Unscheduled   \n",
       "10           01/14/2014 12:00:00 AM              92.0  Routine - Unscheduled   \n",
       "10           01/14/2014 12:00:00 AM              92.0  Routine - Unscheduled   \n",
       "10           07/29/2014 12:00:00 AM              94.0  Routine - Unscheduled   \n",
       "10           07/29/2014 12:00:00 AM              94.0  Routine - Unscheduled   \n",
       "\n",
       "                   violation_id  \\\n",
       "business_id                       \n",
       "10           10_20140114_103119   \n",
       "10           10_20140114_103145   \n",
       "10           10_20140114_103154   \n",
       "10           10_20140729_103144   \n",
       "10           10_20140729_103129   \n",
       "\n",
       "                                         violation_description  risk_category  \n",
       "business_id                                                                    \n",
       "10           Inadequate and inaccessible handwashing facili...  Moderate Risk  \n",
       "10            Improper storage of equipment utensils or linens       Low Risk  \n",
       "10                Unclean or degraded floors walls or ceilings       Low Risk  \n",
       "10            Unapproved or unmaintained equipment or utensils       Low Risk  \n",
       "10                     Insufficient hot water or running water  Moderate Risk  "
      ]
     },
     "execution_count": 45,
     "metadata": {},
     "output_type": "execute_result"
    }
   ],
   "source": [
    "import os\n",
    "import pandas as pd\n",
    "import gmaps\n",
    "import yaml\n",
    "\n",
    "pd.set_option('display.max_rows', 20)\n",
    "pd.set_option('display.max_columns', 20)\n",
    "pd.set_option('display.notebook_repr_html', True)\n",
    "\n",
    "\n",
    "df = pd.read_csv(os.path.join('..', '..', 'dataset', 'Restaurant_Scores_-_LIVES_Standard.csv'))\n",
    "df = df.set_index('business_id')\n",
    "\n",
    "with open('google.yaml', 'r') as f:\n",
    "    google_credentials = yaml.load(f)\n",
    "\n",
    "google_api_key = google_credentials['api-key']\n",
    "\n",
    "gmaps.configure(api_key = google_api_key)\n",
    "\n",
    "df.head()"
   ]
  },
  {
   "cell_type": "code",
   "execution_count": 49,
   "metadata": {},
   "outputs": [
    {
     "data": {
      "text/html": [
       "<div>\n",
       "<style>\n",
       "    .dataframe thead tr:only-child th {\n",
       "        text-align: right;\n",
       "    }\n",
       "\n",
       "    .dataframe thead th {\n",
       "        text-align: left;\n",
       "    }\n",
       "\n",
       "    .dataframe tbody tr th {\n",
       "        vertical-align: top;\n",
       "    }\n",
       "</style>\n",
       "<table border=\"1\" class=\"dataframe\">\n",
       "  <thead>\n",
       "    <tr style=\"text-align: right;\">\n",
       "      <th></th>\n",
       "      <th>latitude</th>\n",
       "      <th>longitude</th>\n",
       "    </tr>\n",
       "    <tr>\n",
       "      <th>business_id</th>\n",
       "      <th></th>\n",
       "      <th></th>\n",
       "    </tr>\n",
       "  </thead>\n",
       "  <tbody>\n",
       "    <tr>\n",
       "      <th>10</th>\n",
       "      <td>37.791116</td>\n",
       "      <td>-122.403816</td>\n",
       "    </tr>\n",
       "    <tr>\n",
       "      <th>10</th>\n",
       "      <td>37.791116</td>\n",
       "      <td>-122.403816</td>\n",
       "    </tr>\n",
       "    <tr>\n",
       "      <th>10</th>\n",
       "      <td>37.791116</td>\n",
       "      <td>-122.403816</td>\n",
       "    </tr>\n",
       "    <tr>\n",
       "      <th>10</th>\n",
       "      <td>37.791116</td>\n",
       "      <td>-122.403816</td>\n",
       "    </tr>\n",
       "    <tr>\n",
       "      <th>10</th>\n",
       "      <td>37.791116</td>\n",
       "      <td>-122.403816</td>\n",
       "    </tr>\n",
       "  </tbody>\n",
       "</table>\n",
       "</div>"
      ],
      "text/plain": [
       "              latitude   longitude\n",
       "business_id                       \n",
       "10           37.791116 -122.403816\n",
       "10           37.791116 -122.403816\n",
       "10           37.791116 -122.403816\n",
       "10           37.791116 -122.403816\n",
       "10           37.791116 -122.403816"
      ]
     },
     "execution_count": 49,
     "metadata": {},
     "output_type": "execute_result"
    }
   ],
   "source": [
    "# Filling in the lat long gaps\n",
    "from geopy.geocoders import Nominatim\n",
    "geolocator = Nominatim()\n",
    "\n",
    "#Concatenate address\n",
    "df['comb_address'] = df['business_address']+\" \"+ df['business_city']\n",
    "\n",
    "\n",
    "#Create a new column for lat and long \n",
    "df['latitude'] = 37.791116\n",
    "df['longitude'] = -122.403816\n",
    "location = df[[\"latitude\", \"longitude\"]]\n",
    "\n",
    "# Nulls \n",
    "# null_data = df[df['business_latitude'].isnull()]\n",
    "# null_data['location'] = null_data['comb_address'].apply(geolocator.geocode)\n",
    "# null_data.head()    \n",
    "\n",
    "# Creating a dictionary of unique addresses\n",
    "# comb_address = null_data['comb_address'].unique()\n",
    "# len(comb_address)\n",
    "# d = dict(zip(comb_address, pd.Series(comb_address).apply(geolocator.geocode).apply(lambda x: (x.latitude, x.longitude))))\n",
    "# d\n",
    "#Populate based on address\n",
    "\n",
    "# location = geolocator.geocode(\"033 Belden Pl San Francisco\")\n",
    "# print((location.latitude, location.longitude))\n",
    "\n",
    "\n",
    "\n",
    "\n",
    "# df['location'] = df['location'].apply(lambda x: (x.latitude, x.longitude))\n",
    "# location = geolocator.geocode(df['comb_address'])\n",
    "# print location.latitude[0]\n",
    "\n",
    "#Drop bus_lat and bus_long\n",
    "# df.head()\n",
    "location = location.head()\n",
    "location"
   ]
  },
  {
   "cell_type": "code",
   "execution_count": 50,
   "metadata": {},
   "outputs": [
    {
     "data": {
      "text/html": [
       "<div>\n",
       "<style>\n",
       "    .dataframe thead tr:only-child th {\n",
       "        text-align: right;\n",
       "    }\n",
       "\n",
       "    .dataframe thead th {\n",
       "        text-align: left;\n",
       "    }\n",
       "\n",
       "    .dataframe tbody tr th {\n",
       "        vertical-align: top;\n",
       "    }\n",
       "</style>\n",
       "<table border=\"1\" class=\"dataframe\">\n",
       "  <thead>\n",
       "    <tr style=\"text-align: right;\">\n",
       "      <th></th>\n",
       "      <th>business_name</th>\n",
       "      <th>inspection_id</th>\n",
       "      <th>inspection_date</th>\n",
       "      <th>inspection_score</th>\n",
       "      <th>inspection_type</th>\n",
       "      <th>violation_id</th>\n",
       "      <th>violation_description</th>\n",
       "      <th>risk_category</th>\n",
       "      <th>comb_address</th>\n",
       "      <th>latitude</th>\n",
       "      <th>longitude</th>\n",
       "    </tr>\n",
       "    <tr>\n",
       "      <th>business_id</th>\n",
       "      <th></th>\n",
       "      <th></th>\n",
       "      <th></th>\n",
       "      <th></th>\n",
       "      <th></th>\n",
       "      <th></th>\n",
       "      <th></th>\n",
       "      <th></th>\n",
       "      <th></th>\n",
       "      <th></th>\n",
       "      <th></th>\n",
       "    </tr>\n",
       "  </thead>\n",
       "  <tbody>\n",
       "    <tr>\n",
       "      <th>10</th>\n",
       "      <td>Tiramisu Kitchen</td>\n",
       "      <td>10_20140114</td>\n",
       "      <td>01/14/2014 12:00:00 AM</td>\n",
       "      <td>92.0</td>\n",
       "      <td>Routine - Unscheduled</td>\n",
       "      <td>10_20140114_103119</td>\n",
       "      <td>Inadequate and inaccessible handwashing facili...</td>\n",
       "      <td>Moderate Risk</td>\n",
       "      <td>033 Belden Pl San Francisco</td>\n",
       "      <td>37.791116</td>\n",
       "      <td>-122.403816</td>\n",
       "    </tr>\n",
       "    <tr>\n",
       "      <th>10</th>\n",
       "      <td>Tiramisu Kitchen</td>\n",
       "      <td>10_20140114</td>\n",
       "      <td>01/14/2014 12:00:00 AM</td>\n",
       "      <td>92.0</td>\n",
       "      <td>Routine - Unscheduled</td>\n",
       "      <td>10_20140114_103145</td>\n",
       "      <td>Improper storage of equipment utensils or linens</td>\n",
       "      <td>Low Risk</td>\n",
       "      <td>033 Belden Pl San Francisco</td>\n",
       "      <td>37.791116</td>\n",
       "      <td>-122.403816</td>\n",
       "    </tr>\n",
       "    <tr>\n",
       "      <th>10</th>\n",
       "      <td>Tiramisu Kitchen</td>\n",
       "      <td>10_20140114</td>\n",
       "      <td>01/14/2014 12:00:00 AM</td>\n",
       "      <td>92.0</td>\n",
       "      <td>Routine - Unscheduled</td>\n",
       "      <td>10_20140114_103154</td>\n",
       "      <td>Unclean or degraded floors walls or ceilings</td>\n",
       "      <td>Low Risk</td>\n",
       "      <td>033 Belden Pl San Francisco</td>\n",
       "      <td>37.791116</td>\n",
       "      <td>-122.403816</td>\n",
       "    </tr>\n",
       "    <tr>\n",
       "      <th>10</th>\n",
       "      <td>Tiramisu Kitchen</td>\n",
       "      <td>10_20140729</td>\n",
       "      <td>07/29/2014 12:00:00 AM</td>\n",
       "      <td>94.0</td>\n",
       "      <td>Routine - Unscheduled</td>\n",
       "      <td>10_20140729_103144</td>\n",
       "      <td>Unapproved or unmaintained equipment or utensils</td>\n",
       "      <td>Low Risk</td>\n",
       "      <td>033 Belden Pl San Francisco</td>\n",
       "      <td>37.791116</td>\n",
       "      <td>-122.403816</td>\n",
       "    </tr>\n",
       "    <tr>\n",
       "      <th>10</th>\n",
       "      <td>Tiramisu Kitchen</td>\n",
       "      <td>10_20140729</td>\n",
       "      <td>07/29/2014 12:00:00 AM</td>\n",
       "      <td>94.0</td>\n",
       "      <td>Routine - Unscheduled</td>\n",
       "      <td>10_20140729_103129</td>\n",
       "      <td>Insufficient hot water or running water</td>\n",
       "      <td>Moderate Risk</td>\n",
       "      <td>033 Belden Pl San Francisco</td>\n",
       "      <td>37.791116</td>\n",
       "      <td>-122.403816</td>\n",
       "    </tr>\n",
       "  </tbody>\n",
       "</table>\n",
       "</div>"
      ],
      "text/plain": [
       "                business_name inspection_id         inspection_date  \\\n",
       "business_id                                                           \n",
       "10           Tiramisu Kitchen   10_20140114  01/14/2014 12:00:00 AM   \n",
       "10           Tiramisu Kitchen   10_20140114  01/14/2014 12:00:00 AM   \n",
       "10           Tiramisu Kitchen   10_20140114  01/14/2014 12:00:00 AM   \n",
       "10           Tiramisu Kitchen   10_20140729  07/29/2014 12:00:00 AM   \n",
       "10           Tiramisu Kitchen   10_20140729  07/29/2014 12:00:00 AM   \n",
       "\n",
       "             inspection_score        inspection_type        violation_id  \\\n",
       "business_id                                                                \n",
       "10                       92.0  Routine - Unscheduled  10_20140114_103119   \n",
       "10                       92.0  Routine - Unscheduled  10_20140114_103145   \n",
       "10                       92.0  Routine - Unscheduled  10_20140114_103154   \n",
       "10                       94.0  Routine - Unscheduled  10_20140729_103144   \n",
       "10                       94.0  Routine - Unscheduled  10_20140729_103129   \n",
       "\n",
       "                                         violation_description  risk_category  \\\n",
       "business_id                                                                     \n",
       "10           Inadequate and inaccessible handwashing facili...  Moderate Risk   \n",
       "10            Improper storage of equipment utensils or linens       Low Risk   \n",
       "10                Unclean or degraded floors walls or ceilings       Low Risk   \n",
       "10            Unapproved or unmaintained equipment or utensils       Low Risk   \n",
       "10                     Insufficient hot water or running water  Moderate Risk   \n",
       "\n",
       "                            comb_address   latitude   longitude  \n",
       "business_id                                                      \n",
       "10           033 Belden Pl San Francisco  37.791116 -122.403816  \n",
       "10           033 Belden Pl San Francisco  37.791116 -122.403816  \n",
       "10           033 Belden Pl San Francisco  37.791116 -122.403816  \n",
       "10           033 Belden Pl San Francisco  37.791116 -122.403816  \n",
       "10           033 Belden Pl San Francisco  37.791116 -122.403816  "
      ]
     },
     "execution_count": 50,
     "metadata": {},
     "output_type": "execute_result"
    }
   ],
   "source": [
    "# Removing address, city, state, postal, bus_lat, bus_long, bus_loc, bus_phone\n",
    "\n",
    "# df = df[['business_address', 'business_city', 'business_state', 'business_postal_code', 'business_latitude', 'business_longitude', 'business_location', 'business_phone']].\n",
    "df.drop(['business_address', 'business_city', 'business_state', 'business_postal_code', 'business_latitude', 'business_longitude', 'business_location', 'business_phone_number'], axis=1, inplace=True)\n",
    "\n",
    "df.head()"
   ]
  },
  {
   "cell_type": "code",
   "execution_count": 51,
   "metadata": {},
   "outputs": [
    {
     "ename": "AssertionError",
     "evalue": "",
     "output_type": "error",
     "traceback": [
      "\u001b[0;31m---------------------------------------------------------------------------\u001b[0m",
      "\u001b[0;31mAssertionError\u001b[0m                            Traceback (most recent call last)",
      "\u001b[0;32m<ipython-input-51-f917f39d4d60>\u001b[0m in \u001b[0;36m<module>\u001b[0;34m()\u001b[0m\n\u001b[1;32m      1\u001b[0m \u001b[0mfigure\u001b[0m \u001b[0;34m=\u001b[0m \u001b[0mgmaps\u001b[0m\u001b[0;34m.\u001b[0m\u001b[0mfigure\u001b[0m\u001b[0;34m(\u001b[0m\u001b[0;34m)\u001b[0m\u001b[0;34m\u001b[0m\u001b[0m\n\u001b[0;32m----> 2\u001b[0;31m \u001b[0mfigure\u001b[0m\u001b[0;34m.\u001b[0m\u001b[0madd_layer\u001b[0m\u001b[0;34m(\u001b[0m\u001b[0mgmaps\u001b[0m\u001b[0;34m.\u001b[0m\u001b[0msymbol_layer\u001b[0m\u001b[0;34m(\u001b[0m\u001b[0mlocation\u001b[0m\u001b[0;34m,\u001b[0m \u001b[0mfill_color\u001b[0m \u001b[0;34m=\u001b[0m \u001b[0;34m'yellow'\u001b[0m\u001b[0;34m,\u001b[0m \u001b[0mstroke_color\u001b[0m \u001b[0;34m=\u001b[0m \u001b[0;34m'#ffcc00'\u001b[0m\u001b[0;34m,\u001b[0m \u001b[0mscale\u001b[0m \u001b[0;34m=\u001b[0m \u001b[0;36m2\u001b[0m\u001b[0;34m)\u001b[0m\u001b[0;34m)\u001b[0m\u001b[0;34m\u001b[0m\u001b[0m\n\u001b[0m\u001b[1;32m      3\u001b[0m \u001b[0mfigure\u001b[0m\u001b[0;34m\u001b[0m\u001b[0m\n",
      "\u001b[0;32m/Users/manulohiya/anaconda2/lib/python2.7/site-packages/gmaps/figure.pyc\u001b[0m in \u001b[0;36madd_layer\u001b[0;34m(self, layer)\u001b[0m\n\u001b[1;32m     57\u001b[0m                 \u001b[0mCreate\u001b[0m \u001b[0ma\u001b[0m \u001b[0mlayer\u001b[0m \u001b[0;32mwith\u001b[0m \u001b[0mdirections\u001b[0m\u001b[0;34m\u001b[0m\u001b[0m\n\u001b[1;32m     58\u001b[0m         \"\"\"\n\u001b[0;32m---> 59\u001b[0;31m         \u001b[0mself\u001b[0m\u001b[0;34m.\u001b[0m\u001b[0m_map\u001b[0m\u001b[0;34m.\u001b[0m\u001b[0madd_layer\u001b[0m\u001b[0;34m(\u001b[0m\u001b[0mlayer\u001b[0m\u001b[0;34m)\u001b[0m\u001b[0;34m\u001b[0m\u001b[0m\n\u001b[0m\u001b[1;32m     60\u001b[0m \u001b[0;34m\u001b[0m\u001b[0m\n\u001b[1;32m     61\u001b[0m \u001b[0;34m\u001b[0m\u001b[0m\n",
      "\u001b[0;32m/Users/manulohiya/anaconda2/lib/python2.7/site-packages/gmaps/maps.pyc\u001b[0m in \u001b[0;36madd_layer\u001b[0;34m(self, layer)\u001b[0m\n\u001b[1;32m    149\u001b[0m \u001b[0;34m\u001b[0m\u001b[0m\n\u001b[1;32m    150\u001b[0m     \u001b[0;32mdef\u001b[0m \u001b[0madd_layer\u001b[0m\u001b[0;34m(\u001b[0m\u001b[0mself\u001b[0m\u001b[0;34m,\u001b[0m \u001b[0mlayer\u001b[0m\u001b[0;34m)\u001b[0m\u001b[0;34m:\u001b[0m\u001b[0;34m\u001b[0m\u001b[0m\n\u001b[0;32m--> 151\u001b[0;31m         \u001b[0mself\u001b[0m\u001b[0;34m.\u001b[0m\u001b[0mlayers\u001b[0m \u001b[0;34m=\u001b[0m \u001b[0mtuple\u001b[0m\u001b[0;34m(\u001b[0m\u001b[0;34m[\u001b[0m\u001b[0ml\u001b[0m \u001b[0;32mfor\u001b[0m \u001b[0ml\u001b[0m \u001b[0;32min\u001b[0m \u001b[0mself\u001b[0m\u001b[0;34m.\u001b[0m\u001b[0mlayers\u001b[0m\u001b[0;34m]\u001b[0m \u001b[0;34m+\u001b[0m \u001b[0;34m[\u001b[0m\u001b[0mlayer\u001b[0m\u001b[0;34m]\u001b[0m\u001b[0;34m)\u001b[0m\u001b[0;34m\u001b[0m\u001b[0m\n\u001b[0m\u001b[1;32m    152\u001b[0m \u001b[0;34m\u001b[0m\u001b[0m\n\u001b[1;32m    153\u001b[0m     \u001b[0;34m@\u001b[0m\u001b[0mdefault\u001b[0m\u001b[0;34m(\u001b[0m\u001b[0;34m\"layout\"\u001b[0m\u001b[0;34m)\u001b[0m\u001b[0;34m\u001b[0m\u001b[0m\n",
      "\u001b[0;32m/Users/manulohiya/anaconda2/lib/python2.7/site-packages/traitlets/traitlets.pyc\u001b[0m in \u001b[0;36m__set__\u001b[0;34m(self, obj, value)\u001b[0m\n\u001b[1;32m    583\u001b[0m             \u001b[0;32mraise\u001b[0m \u001b[0mTraitError\u001b[0m\u001b[0;34m(\u001b[0m\u001b[0;34m'The \"%s\" trait is read-only.'\u001b[0m \u001b[0;34m%\u001b[0m \u001b[0mself\u001b[0m\u001b[0;34m.\u001b[0m\u001b[0mname\u001b[0m\u001b[0;34m)\u001b[0m\u001b[0;34m\u001b[0m\u001b[0m\n\u001b[1;32m    584\u001b[0m         \u001b[0;32melse\u001b[0m\u001b[0;34m:\u001b[0m\u001b[0;34m\u001b[0m\u001b[0m\n\u001b[0;32m--> 585\u001b[0;31m             \u001b[0mself\u001b[0m\u001b[0;34m.\u001b[0m\u001b[0mset\u001b[0m\u001b[0;34m(\u001b[0m\u001b[0mobj\u001b[0m\u001b[0;34m,\u001b[0m \u001b[0mvalue\u001b[0m\u001b[0;34m)\u001b[0m\u001b[0;34m\u001b[0m\u001b[0m\n\u001b[0m\u001b[1;32m    586\u001b[0m \u001b[0;34m\u001b[0m\u001b[0m\n\u001b[1;32m    587\u001b[0m     \u001b[0;32mdef\u001b[0m \u001b[0m_validate\u001b[0m\u001b[0;34m(\u001b[0m\u001b[0mself\u001b[0m\u001b[0;34m,\u001b[0m \u001b[0mobj\u001b[0m\u001b[0;34m,\u001b[0m \u001b[0mvalue\u001b[0m\u001b[0;34m)\u001b[0m\u001b[0;34m:\u001b[0m\u001b[0;34m\u001b[0m\u001b[0m\n",
      "\u001b[0;32m/Users/manulohiya/anaconda2/lib/python2.7/site-packages/traitlets/traitlets.pyc\u001b[0m in \u001b[0;36mset\u001b[0;34m(self, obj, value)\u001b[0m\n\u001b[1;32m    572\u001b[0m             \u001b[0;31m# we explicitly compare silent to True just in case the equality\u001b[0m\u001b[0;34m\u001b[0m\u001b[0;34m\u001b[0m\u001b[0m\n\u001b[1;32m    573\u001b[0m             \u001b[0;31m# comparison above returns something other than True/False\u001b[0m\u001b[0;34m\u001b[0m\u001b[0;34m\u001b[0m\u001b[0m\n\u001b[0;32m--> 574\u001b[0;31m             \u001b[0mobj\u001b[0m\u001b[0;34m.\u001b[0m\u001b[0m_notify_trait\u001b[0m\u001b[0;34m(\u001b[0m\u001b[0mself\u001b[0m\u001b[0;34m.\u001b[0m\u001b[0mname\u001b[0m\u001b[0;34m,\u001b[0m \u001b[0mold_value\u001b[0m\u001b[0;34m,\u001b[0m \u001b[0mnew_value\u001b[0m\u001b[0;34m)\u001b[0m\u001b[0;34m\u001b[0m\u001b[0m\n\u001b[0m\u001b[1;32m    575\u001b[0m \u001b[0;34m\u001b[0m\u001b[0m\n\u001b[1;32m    576\u001b[0m     \u001b[0;32mdef\u001b[0m \u001b[0m__set__\u001b[0m\u001b[0;34m(\u001b[0m\u001b[0mself\u001b[0m\u001b[0;34m,\u001b[0m \u001b[0mobj\u001b[0m\u001b[0;34m,\u001b[0m \u001b[0mvalue\u001b[0m\u001b[0;34m)\u001b[0m\u001b[0;34m:\u001b[0m\u001b[0;34m\u001b[0m\u001b[0m\n",
      "\u001b[0;32m/Users/manulohiya/anaconda2/lib/python2.7/site-packages/traitlets/traitlets.pyc\u001b[0m in \u001b[0;36m_notify_trait\u001b[0;34m(self, name, old_value, new_value)\u001b[0m\n\u001b[1;32m   1137\u001b[0m             \u001b[0mnew\u001b[0m\u001b[0;34m=\u001b[0m\u001b[0mnew_value\u001b[0m\u001b[0;34m,\u001b[0m\u001b[0;34m\u001b[0m\u001b[0m\n\u001b[1;32m   1138\u001b[0m             \u001b[0mowner\u001b[0m\u001b[0;34m=\u001b[0m\u001b[0mself\u001b[0m\u001b[0;34m,\u001b[0m\u001b[0;34m\u001b[0m\u001b[0m\n\u001b[0;32m-> 1139\u001b[0;31m             \u001b[0mtype\u001b[0m\u001b[0;34m=\u001b[0m\u001b[0;34m'change'\u001b[0m\u001b[0;34m,\u001b[0m\u001b[0;34m\u001b[0m\u001b[0m\n\u001b[0m\u001b[1;32m   1140\u001b[0m         ))\n\u001b[1;32m   1141\u001b[0m \u001b[0;34m\u001b[0m\u001b[0m\n",
      "\u001b[0;32m/Users/manulohiya/anaconda2/lib/python2.7/site-packages/ipywidgets/widgets/widget.pyc\u001b[0m in \u001b[0;36mnotify_change\u001b[0;34m(self, change)\u001b[0m\n\u001b[1;32m    396\u001b[0m                 \u001b[0;31m# Send new state to front-end\u001b[0m\u001b[0;34m\u001b[0m\u001b[0;34m\u001b[0m\u001b[0m\n\u001b[1;32m    397\u001b[0m                 \u001b[0mself\u001b[0m\u001b[0;34m.\u001b[0m\u001b[0msend_state\u001b[0m\u001b[0;34m(\u001b[0m\u001b[0mkey\u001b[0m\u001b[0;34m=\u001b[0m\u001b[0mname\u001b[0m\u001b[0;34m)\u001b[0m\u001b[0;34m\u001b[0m\u001b[0m\n\u001b[0;32m--> 398\u001b[0;31m         \u001b[0mLoggingConfigurable\u001b[0m\u001b[0;34m.\u001b[0m\u001b[0mnotify_change\u001b[0m\u001b[0;34m(\u001b[0m\u001b[0mself\u001b[0m\u001b[0;34m,\u001b[0m \u001b[0mchange\u001b[0m\u001b[0;34m)\u001b[0m\u001b[0;34m\u001b[0m\u001b[0m\n\u001b[0m\u001b[1;32m    399\u001b[0m \u001b[0;34m\u001b[0m\u001b[0m\n\u001b[1;32m    400\u001b[0m     \u001b[0;31m#-------------------------------------------------------------------------\u001b[0m\u001b[0;34m\u001b[0m\u001b[0;34m\u001b[0m\u001b[0m\n",
      "\u001b[0;32m/Users/manulohiya/anaconda2/lib/python2.7/site-packages/traitlets/traitlets.pyc\u001b[0m in \u001b[0;36mnotify_change\u001b[0;34m(self, change)\u001b[0m\n\u001b[1;32m   1174\u001b[0m                 \u001b[0mc\u001b[0m \u001b[0;34m=\u001b[0m \u001b[0mgetattr\u001b[0m\u001b[0;34m(\u001b[0m\u001b[0mself\u001b[0m\u001b[0;34m,\u001b[0m \u001b[0mc\u001b[0m\u001b[0;34m.\u001b[0m\u001b[0mname\u001b[0m\u001b[0;34m)\u001b[0m\u001b[0;34m\u001b[0m\u001b[0m\n\u001b[1;32m   1175\u001b[0m \u001b[0;34m\u001b[0m\u001b[0m\n\u001b[0;32m-> 1176\u001b[0;31m             \u001b[0mc\u001b[0m\u001b[0;34m(\u001b[0m\u001b[0mchange\u001b[0m\u001b[0;34m)\u001b[0m\u001b[0;34m\u001b[0m\u001b[0m\n\u001b[0m\u001b[1;32m   1177\u001b[0m \u001b[0;34m\u001b[0m\u001b[0m\n\u001b[1;32m   1178\u001b[0m     \u001b[0;32mdef\u001b[0m \u001b[0m_add_notifiers\u001b[0m\u001b[0;34m(\u001b[0m\u001b[0mself\u001b[0m\u001b[0;34m,\u001b[0m \u001b[0mhandler\u001b[0m\u001b[0;34m,\u001b[0m \u001b[0mname\u001b[0m\u001b[0;34m,\u001b[0m \u001b[0mtype\u001b[0m\u001b[0;34m)\u001b[0m\u001b[0;34m:\u001b[0m\u001b[0;34m\u001b[0m\u001b[0m\n",
      "\u001b[0;32m/Users/manulohiya/anaconda2/lib/python2.7/site-packages/gmaps/maps.pyc\u001b[0m in \u001b[0;36m_calc_bounds\u001b[0;34m(self, change)\u001b[0m\n\u001b[1;32m    169\u001b[0m             ]\n\u001b[1;32m    170\u001b[0m             \u001b[0mmin_longitude\u001b[0m\u001b[0;34m,\u001b[0m \u001b[0mmax_longitude\u001b[0m \u001b[0;34m=\u001b[0m\u001b[0;31m\\\u001b[0m\u001b[0;34m\u001b[0m\u001b[0m\n\u001b[0;32m--> 171\u001b[0;31m                 \u001b[0mmerge_longitude_bounds\u001b[0m\u001b[0;34m(\u001b[0m\u001b[0mlongitude_bounds\u001b[0m\u001b[0;34m)\u001b[0m\u001b[0;34m\u001b[0m\u001b[0m\n\u001b[0m\u001b[1;32m    172\u001b[0m \u001b[0;34m\u001b[0m\u001b[0m\n\u001b[1;32m    173\u001b[0m             self.data_bounds = [\n",
      "\u001b[0;32m/Users/manulohiya/anaconda2/lib/python2.7/site-packages/gmaps/bounds.pyc\u001b[0m in \u001b[0;36mmerge_longitude_bounds\u001b[0;34m(longitude_bounds_list)\u001b[0m\n\u001b[1;32m    131\u001b[0m         \u001b[0mseg_start\u001b[0m \u001b[0;34m=\u001b[0m \u001b[0mbnd\u001b[0m\u001b[0;34m\u001b[0m\u001b[0m\n\u001b[1;32m    132\u001b[0m         \u001b[0mcoverage\u001b[0m \u001b[0;34m+=\u001b[0m \u001b[0mdelta\u001b[0m\u001b[0;34m\u001b[0m\u001b[0m\n\u001b[0;32m--> 133\u001b[0;31m         \u001b[0;32massert\u001b[0m\u001b[0;34m(\u001b[0m\u001b[0mcoverage\u001b[0m \u001b[0;34m>=\u001b[0m \u001b[0;36m0\u001b[0m\u001b[0;34m)\u001b[0m\u001b[0;34m\u001b[0m\u001b[0m\n\u001b[0m\u001b[1;32m    134\u001b[0m \u001b[0;34m\u001b[0m\u001b[0m\n\u001b[1;32m    135\u001b[0m     \u001b[0;31m# reversing the lng order in a gap gives us a valid bound\u001b[0m\u001b[0;34m\u001b[0m\u001b[0;34m\u001b[0m\u001b[0m\n",
      "\u001b[0;31mAssertionError\u001b[0m: "
     ]
    }
   ],
   "source": [
    "figure = gmaps.figure()\n",
    "figure.add_layer(gmaps.symbol_layer(location, fill_color = 'yellow', stroke_color = '#ffcc00', scale = 2))\n",
    "figure"
   ]
  },
  {
   "cell_type": "code",
   "execution_count": 7,
   "metadata": {
    "collapsed": true
   },
   "outputs": [],
   "source": [
    "# figure = gmaps.figure()\n",
    "# figure.add_layer(gmaps.heatmap_layer(locations_df))\n",
    "# figure"
   ]
  },
  {
   "cell_type": "code",
   "execution_count": null,
   "metadata": {},
   "outputs": [],
   "source": []
  },
  {
   "cell_type": "code",
   "execution_count": 8,
   "metadata": {},
   "outputs": [
    {
     "ename": "SyntaxError",
     "evalue": "invalid syntax (<ipython-input-8-7ad90180311d>, line 1)",
     "output_type": "error",
     "traceback": [
      "\u001b[0;36m  File \u001b[0;32m\"<ipython-input-8-7ad90180311d>\"\u001b[0;36m, line \u001b[0;32m1\u001b[0m\n\u001b[0;31m    > ### Question 5.  Create a data dictionary.\u001b[0m\n\u001b[0m    ^\u001b[0m\n\u001b[0;31mSyntaxError\u001b[0m\u001b[0;31m:\u001b[0m invalid syntax\n"
     ]
    }
   ],
   "source": [
    "> ### Question 5.  Create a data dictionary."
   ]
  },
  {
   "cell_type": "markdown",
   "metadata": {},
   "source": [
    "Answer: TODO\n",
    "\n",
    "(Use the template below)\n",
    "\n",
    "Variable | Description | Type of Variable\n",
    "---|---|---\n",
    "Is Menu available | 0 = No, 1 = Yes | Categorical\n",
    "Number of Photos | Integer | Continuous\n",
    "Rating | Integer | Continuous\n",
    "Reviews Polarity | Integer | Continuous\n",
    "Price | Integer | Continuous\n"
   ]
  },
  {
   "cell_type": "markdown",
   "metadata": {},
   "source": [
    "We would like to explore the association between X and Y. "
   ]
  },
  {
   "cell_type": "markdown",
   "metadata": {},
   "source": [
    "> ### Question 6.  What is the outcome?"
   ]
  },
  {
   "cell_type": "markdown",
   "metadata": {},
   "source": [
    "Answer: Outcome is the number of check-ins per week"
   ]
  },
  {
   "cell_type": "markdown",
   "metadata": {},
   "source": [
    "## Part C.  Create an exploratory analysis plan by answering the following questions:"
   ]
  },
  {
   "cell_type": "markdown",
   "metadata": {},
   "source": [
    "Because the answers to these questions haven't yet been covered in class yet, this section is optional.  This is by design.  By having you guess or look around for these answers will help make sense once we cover this material in class.  You will not be penalized for wrong answers but we encourage you to give it a try!"
   ]
  },
  {
   "cell_type": "markdown",
   "metadata": {},
   "source": [
    "> ### Question 11. What are the goals of the exploratory analysis?"
   ]
  },
  {
   "cell_type": "markdown",
   "metadata": {},
   "source": [
    "Answer: \n",
    "\n",
    "* Summarize the main characteristics of the dataset (looking at summary statistics)\n",
    "* Visualize the data set \n",
    "* Formulate additional hypotheses\n",
    "* Formulate assumptions and edge cases\n"
   ]
  },
  {
   "cell_type": "markdown",
   "metadata": {},
   "source": [
    "> ### Question 12.  What are the assumptions of the distribution of data?"
   ]
  },
  {
   "cell_type": "markdown",
   "metadata": {},
   "source": [
    "Answer: The assumption is that the data for checkins is normally distributed. There are probably 1-2 major factors that define the curve"
   ]
  },
  {
   "cell_type": "markdown",
   "metadata": {},
   "source": [
    "> ### Question 13.  How will determine the distribution of your data?"
   ]
  },
  {
   "cell_type": "markdown",
   "metadata": {},
   "source": [
    "Answer: I will determine the distribution by first graphing a histogram of the total checkins across San Francisco. I will also compute the mean and the median of hte dataset and the standard deviation. "
   ]
  },
  {
   "cell_type": "markdown",
   "metadata": {},
   "source": [
    "> ### Question 14.  How might outliers impact your analysis?"
   ]
  },
  {
   "cell_type": "markdown",
   "metadata": {},
   "source": [
    "Answer: If there are outliers in the dataset their characteristics may impact the overall statistical analysis. For example a restaurant may have a very high number of checkins due to some kind of a freak one off incident. "
   ]
  },
  {
   "cell_type": "markdown",
   "metadata": {},
   "source": [
    "> ### Question 15.  How will you test for outliers?"
   ]
  },
  {
   "cell_type": "markdown",
   "metadata": {},
   "source": [
    "Answer: Outliers can be identified by computing the inner fences using the inter quartile ranges. If the data point is outside the fences then we can probably omit them. "
   ]
  },
  {
   "cell_type": "markdown",
   "metadata": {},
   "source": [
    "> ### Question 16.  What is colinearity?"
   ]
  },
  {
   "cell_type": "markdown",
   "metadata": {},
   "source": [
    "Answer: multicollinearity (also collinearity) is a phenomenon in which two or more predictor variables in a multiple regression model are highly correlated, meaning that one can be linearly predicted from the others with a substantial degree of accuracy."
   ]
  },
  {
   "cell_type": "markdown",
   "metadata": {},
   "source": [
    "> ### Question 17.  How will you test for covariance?"
   ]
  },
  {
   "cell_type": "markdown",
   "metadata": {},
   "source": [
    "Answer: Covariance can be tested by using statistical tests such as t-tests or f-tests."
   ]
  },
  {
   "cell_type": "markdown",
   "metadata": {},
   "source": [
    "> ### Question 18.  What is your exploratory analysis plan?\n",
    "\n",
    "> Using the above information, write an exploratory analysis plan that would allow you or a colleague to reproduce your analysis one year from now."
   ]
  },
  {
   "cell_type": "markdown",
   "metadata": {},
   "source": [
    "Answer: \n",
    "* Craft the query to download the dataset from the venues API from Foursquare for all restaurants in SF\n",
    "* Output the file as a csv and load it onto a jupyter notebook\n",
    "* Remove any unneccesary columns\n",
    "* Visualize the number of checkins as a histogram\n",
    "* Figure out the outliers using the Inter quartile ranges and remove them\n",
    "* Run a t-test on the resulting data set to test for covariance\n",
    "* Remove any columns that have high covariance\n",
    "* Run a linear regression on the training set of the outcome variable against the prdeictors\n",
    "* Measure the success rate by running the relationship on the testing dataset\n",
    "* Run other types of regressions and compare the results"
   ]
  },
  {
   "cell_type": "code",
   "execution_count": null,
   "metadata": {
    "collapsed": true
   },
   "outputs": [],
   "source": []
  }
 ],
 "metadata": {
  "kernelspec": {
   "display_name": "Python 2",
   "language": "python",
   "name": "python2"
  },
  "language_info": {
   "codemirror_mode": {
    "name": "ipython",
    "version": 2
   },
   "file_extension": ".py",
   "mimetype": "text/x-python",
   "name": "python",
   "nbconvert_exporter": "python",
   "pygments_lexer": "ipython2",
   "version": "2.7.13"
  }
 },
 "nbformat": 4,
 "nbformat_minor": 1
}
